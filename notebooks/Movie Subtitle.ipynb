{
 "cells": [
  {
   "cell_type": "code",
   "execution_count": 1,
   "id": "271f3dab",
   "metadata": {},
   "outputs": [],
   "source": [
    "from typing import List, Tuple\n",
    "\n",
    "import pysrt\n",
    "from moviepy.editor import VideoFileClip, TextClip, CompositeVideoClip"
   ]
  },
  {
   "cell_type": "code",
   "execution_count": 16,
   "id": "49507267",
   "metadata": {},
   "outputs": [],
   "source": [
    "def time_to_seconds(time_obj: pysrt.srttime.SubRipTime) -> float:\n",
    "    return time_obj.hours * 3600 + time_obj.minutes * 60 + time_obj.seconds + time_obj.milliseconds / 1000\n",
    "\n",
    "def create_subtitle_clips(\n",
    "        subtitles: List[pysrt.srttime.SubRipTime],\n",
    "        videosize: List[int],\n",
    "        fontsize: int = 24,\n",
    "        font: str = \"Arial\",\n",
    "        color: str = \"white\",\n",
    "        debug: bool = False\n",
    "    ) -> List[TextClip]:\n",
    "    subtitle_clips = []\n",
    "\n",
    "    for subtitle in subtitles:\n",
    "        start_time: float = time_to_seconds(subtitle.start)\n",
    "        end_time: float = time_to_seconds(subtitle.end)\n",
    "        duration: float = end_time - start_time\n",
    "\n",
    "        video_width, video_height = videosize\n",
    "        \n",
    "        text_clip: TextClip = TextClip(\n",
    "            subtitle.text,\n",
    "            fontsize=fontsize,\n",
    "            font=font,\n",
    "            color=color,\n",
    "            bg_color=\"black\",\n",
    "            size=(video_width*3/4, None),\n",
    "            method=\"caption\",\n",
    "        ).set_start(start_time).set_duration(duration)\n",
    "\n",
    "        subtitle_x_position: str = \"center\"\n",
    "        subtitle_y_position: float = video_height * 4 / 5 \n",
    "        text_position: Tuple[str, float] = (subtitle_x_position, subtitle_y_position)\n",
    "\n",
    "        subtitle_clips.append(text_clip.set_position(text_position))\n",
    "\n",
    "    return subtitle_clips\n",
    "\n",
    "def add_subtitle_to_movie(mp4filename: str, srtfilename) -> CompositeVideoClip:\n",
    "    print(\"Video path:\", mp4filename)\n",
    "    print(\"Subtitle path:\", srtfilename)\n",
    "    video: VideoFileClip = VideoFileClip(mp4filename)\n",
    "    subtitles: List[pysrt.srttime.SubRipTime] = pysrt.open(srtfilename)\n",
    "\n",
    "    begin, _ = mp4filename.split(\".mp4\")\n",
    "    output_video_file: str = begin + \"_subtitled\" + \".mp4\"\n",
    "    output_audio_file: str = begin + \".mp3\"\n",
    "\n",
    "    video.audio.to_audiofile(filename=output_audio_file)\n",
    "    \n",
    "    subtitle_clips: List[TextClip] = create_subtitle_clips(subtitles,video.size)\n",
    "    \n",
    "    final_video: CompositeVideoClip = CompositeVideoClip([video] + subtitle_clips)\n",
    "    final_video.write_videofile(\n",
    "        output_video_file,\n",
    "        audio=output_audio_file,\n",
    "        # temp_audiofile=output_audio_file,\n",
    "        audio_codec=\"libmp3lame\",\n",
    "        remove_temp=True\n",
    "        )\n",
    "\n",
    "    return final_video"
   ]
  },
  {
   "cell_type": "code",
   "execution_count": 17,
   "id": "6f3af136",
   "metadata": {},
   "outputs": [],
   "source": [
    "MP4FILENAME: str = \"/Users/abevallerian/Downloads/AI_SaaS.mp4\"\n",
    "STRFILENAME: str = \"/Users/abevallerian/Downloads/AI_SaaS.srt\""
   ]
  },
  {
   "cell_type": "code",
   "execution_count": 18,
   "id": "312ad57f",
   "metadata": {},
   "outputs": [
    {
     "name": "stdout",
     "output_type": "stream",
     "text": [
      "Video path: /Users/abevallerian/Downloads/AI_SaaS.mp4\n",
      "Subtitle path: /Users/abevallerian/Downloads/AI_SaaS.srt\n",
      "MoviePy - Writing audio in /Users/abevallerian/Downloads/AI_SaaS.mp3\n"
     ]
    },
    {
     "name": "stderr",
     "output_type": "stream",
     "text": [
      "                                                                      \r"
     ]
    },
    {
     "name": "stdout",
     "output_type": "stream",
     "text": [
      "MoviePy - Done.\n",
      "Moviepy - Building video /Users/abevallerian/Downloads/AI_SaaS_subtitled.mp4.\n",
      "Moviepy - Writing video /Users/abevallerian/Downloads/AI_SaaS_subtitled.mp4\n",
      "\n"
     ]
    },
    {
     "name": "stderr",
     "output_type": "stream",
     "text": [
      "                                                                 \r"
     ]
    },
    {
     "name": "stdout",
     "output_type": "stream",
     "text": [
      "Moviepy - Done !\n",
      "Moviepy - video ready /Users/abevallerian/Downloads/AI_SaaS_subtitled.mp4\n"
     ]
    }
   ],
   "source": [
    "final_video = add_subtitle_to_movie(MP4FILENAME, STRFILENAME)"
   ]
  },
  {
   "cell_type": "code",
   "execution_count": null,
   "id": "5f8a5e02",
   "metadata": {},
   "outputs": [],
   "source": [
    "video: VideoFileClip = VideoFileClip(MP4FILENAME)"
   ]
  },
  {
   "cell_type": "code",
   "execution_count": null,
   "id": "185bfc30",
   "metadata": {},
   "outputs": [],
   "source": [
    "video.audio.to_audiofile(filename='/Users/abevallerian/Downloads/AI_SaaS_audio.mp3')"
   ]
  },
  {
   "cell_type": "code",
   "execution_count": 6,
   "id": "e540c4ec",
   "metadata": {},
   "outputs": [
    {
     "name": "stdout",
     "output_type": "stream",
     "text": [
      "\u001b[31mSignature:\u001b[39m\n",
      "final_video.write_videofile(\n",
      "    filename,\n",
      "    fps=\u001b[38;5;28;01mNone\u001b[39;00m,\n",
      "    codec=\u001b[38;5;28;01mNone\u001b[39;00m,\n",
      "    bitrate=\u001b[38;5;28;01mNone\u001b[39;00m,\n",
      "    audio=\u001b[38;5;28;01mTrue\u001b[39;00m,\n",
      "    audio_fps=\u001b[32m44100\u001b[39m,\n",
      "    preset=\u001b[33m'medium'\u001b[39m,\n",
      "    audio_nbytes=\u001b[32m4\u001b[39m,\n",
      "    audio_codec=\u001b[38;5;28;01mNone\u001b[39;00m,\n",
      "    audio_bitrate=\u001b[38;5;28;01mNone\u001b[39;00m,\n",
      "    audio_bufsize=\u001b[32m2000\u001b[39m,\n",
      "    temp_audiofile=\u001b[38;5;28;01mNone\u001b[39;00m,\n",
      "    rewrite_audio=\u001b[38;5;28;01mTrue\u001b[39;00m,\n",
      "    remove_temp=\u001b[38;5;28;01mTrue\u001b[39;00m,\n",
      "    write_logfile=\u001b[38;5;28;01mFalse\u001b[39;00m,\n",
      "    verbose=\u001b[38;5;28;01mTrue\u001b[39;00m,\n",
      "    threads=\u001b[38;5;28;01mNone\u001b[39;00m,\n",
      "    ffmpeg_params=\u001b[38;5;28;01mNone\u001b[39;00m,\n",
      "    logger=\u001b[33m'bar'\u001b[39m,\n",
      ")\n",
      "\u001b[31mDocstring:\u001b[39m\n",
      "Write the clip to a videofile.\n",
      "\n",
      "Parameters\n",
      "-----------\n",
      "\n",
      "filename\n",
      "  Name of the video file to write in.\n",
      "  The extension must correspond to the \"codec\" used (see below),\n",
      "  or simply be '.avi' (which will work with any codec).\n",
      "\n",
      "fps\n",
      "  Number of frames per second in the resulting video file. If None is\n",
      "  provided, and the clip has an fps attribute, this fps will be used.\n",
      "\n",
      "codec\n",
      "  Codec to use for image encoding. Can be any codec supported\n",
      "  by ffmpeg. If the filename is has extension '.mp4', '.ogv', '.webm',\n",
      "  the codec will be set accordingly, but you can still set it if you\n",
      "  don't like the default. For other extensions, the output filename\n",
      "  must be set accordingly.\n",
      "\n",
      "  Some examples of codecs are:\n",
      "\n",
      "  ``'libx264'`` (default codec for file extension ``.mp4``)\n",
      "  makes well-compressed videos (quality tunable using 'bitrate').\n",
      "\n",
      "\n",
      "  ``'mpeg4'`` (other codec for extension ``.mp4``) can be an alternative\n",
      "  to ``'libx264'``, and produces higher quality videos by default.\n",
      "\n",
      "\n",
      "  ``'rawvideo'`` (use file extension ``.avi``) will produce\n",
      "  a video of perfect quality, of possibly very huge size.\n",
      "\n",
      "\n",
      "  ``png`` (use file extension ``.avi``) will produce a video\n",
      "  of perfect quality, of smaller size than with ``rawvideo``.\n",
      "\n",
      "\n",
      "  ``'libvorbis'`` (use file extension ``.ogv``) is a nice video\n",
      "  format, which is completely free/ open source. However not\n",
      "  everyone has the codecs installed by default on their machine.\n",
      "\n",
      "\n",
      "  ``'libvpx'`` (use file extension ``.webm``) is tiny a video\n",
      "  format well indicated for web videos (with HTML5). Open source.\n",
      "\n",
      "\n",
      "audio\n",
      "  Either ``True``, ``False``, or a file name.\n",
      "  If ``True`` and the clip has an audio clip attached, this\n",
      "  audio clip will be incorporated as a soundtrack in the movie.\n",
      "  If ``audio`` is the name of an audio file, this audio file\n",
      "  will be incorporated as a soundtrack in the movie.\n",
      "\n",
      "audiofps\n",
      "  frame rate to use when generating the sound.\n",
      "\n",
      "temp_audiofile\n",
      "  the name of the temporary audiofile to be generated and\n",
      "  incorporated in the the movie, if any.\n",
      "\n",
      "audio_codec\n",
      "  Which audio codec should be used. Examples are 'libmp3lame'\n",
      "  for '.mp3', 'libvorbis' for 'ogg', 'libfdk_aac':'m4a',\n",
      "  'pcm_s16le' for 16-bit wav and 'pcm_s32le' for 32-bit wav.\n",
      "  Default is 'libmp3lame', unless the video extension is 'ogv'\n",
      "  or 'webm', at which case the default is 'libvorbis'.\n",
      "\n",
      "audio_bitrate\n",
      "  Audio bitrate, given as a string like '50k', '500k', '3000k'.\n",
      "  Will determine the size/quality of audio in the output file.\n",
      "  Note that it mainly an indicative goal, the bitrate won't\n",
      "  necessarily be the this in the final file.\n",
      "\n",
      "preset\n",
      "  Sets the time that FFMPEG will spend optimizing the compression.\n",
      "  Choices are: ultrafast, superfast, veryfast, faster, fast, medium,\n",
      "  slow, slower, veryslow, placebo. Note that this does not impact\n",
      "  the quality of the video, only the size of the video file. So\n",
      "  choose ultrafast when you are in a hurry and file size does not\n",
      "  matter.\n",
      "\n",
      "threads\n",
      "  Number of threads to use for ffmpeg. Can speed up the writing of\n",
      "  the video on multicore computers.\n",
      "\n",
      "ffmpeg_params\n",
      "  Any additional ffmpeg parameters you would like to pass, as a list\n",
      "  of terms, like ['-option1', 'value1', '-option2', 'value2'].\n",
      "\n",
      "write_logfile\n",
      "  If true, will write log files for the audio and the video.\n",
      "  These will be files ending with '.log' with the name of the\n",
      "  output file in them.\n",
      "\n",
      "logger\n",
      "  Either \"bar\" for progress bar or None or any Proglog logger.\n",
      "\n",
      "verbose (deprecated, kept for compatibility)\n",
      "  Formerly used for toggling messages on/off. Use logger=None now.\n",
      "\n",
      "Examples\n",
      "========\n",
      "\n",
      ">>> from moviepy.editor import VideoFileClip\n",
      ">>> clip = VideoFileClip(\"myvideo.mp4\").subclip(100,120)\n",
      ">>> clip.write_videofile(\"my_new_video.mp4\")\n",
      ">>> clip.close()\n",
      "\u001b[31mFile:\u001b[39m      ~/miniconda3/envs/general/lib/python3.13/site-packages/moviepy/video/VideoClip.py\n",
      "\u001b[31mType:\u001b[39m      method"
     ]
    }
   ],
   "source": [
    "?final_video.write_videofile"
   ]
  },
  {
   "cell_type": "code",
   "execution_count": null,
   "id": "f9e3fd3c",
   "metadata": {},
   "outputs": [],
   "source": []
  }
 ],
 "metadata": {
  "kernelspec": {
   "display_name": "general",
   "language": "python",
   "name": "python3"
  },
  "language_info": {
   "codemirror_mode": {
    "name": "ipython",
    "version": 3
   },
   "file_extension": ".py",
   "mimetype": "text/x-python",
   "name": "python",
   "nbconvert_exporter": "python",
   "pygments_lexer": "ipython3",
   "version": "3.13.2"
  }
 },
 "nbformat": 4,
 "nbformat_minor": 5
}
