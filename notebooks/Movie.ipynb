{
 "cells": [
  {
   "cell_type": "code",
   "execution_count": 1,
   "id": "271f3dab",
   "metadata": {},
   "outputs": [],
   "source": [
    "import sys\n",
    "from typing import List, Tuple\n",
    "\n",
    "import pysrt\n",
    "from moviepy.editor import VideoFileClip, TextClip, CompositeVideoClip"
   ]
  },
  {
   "cell_type": "code",
   "execution_count": 2,
   "id": "49507267",
   "metadata": {},
   "outputs": [],
   "source": [
    "def time_to_seconds(time_obj: pysrt.srttime.SubRipTime) -> float:\n",
    "    return time_obj.hours * 3600 + time_obj.minutes * 60 + time_obj.seconds + time_obj.milliseconds / 1000\n",
    "\n",
    "def create_subtitle_clips(\n",
    "        subtitles: List[pysrt.srttime.SubRipTime],\n",
    "        videosize: List[int],\n",
    "        fontsize: int = 24,\n",
    "        font: str = \"Arial\",\n",
    "        color: str = \"yellow\",\n",
    "        debug: bool = False\n",
    "    ) -> List[TextClip]:\n",
    "    subtitle_clips = []\n",
    "\n",
    "    for subtitle in subtitles:\n",
    "        start_time: float = time_to_seconds(subtitle.start)\n",
    "        end_time: float = time_to_seconds(subtitle.end)\n",
    "        duration: float = end_time - start_time\n",
    "\n",
    "        video_width, video_height = videosize\n",
    "        \n",
    "        text_clip: TextClip = TextClip(\n",
    "            subtitle.text,\n",
    "            fontsize=fontsize,\n",
    "            font=font,\n",
    "            color=color,\n",
    "            bg_color=\"black\",\n",
    "            size=(video_width*3/4, None),\n",
    "            method=\"caption\"\n",
    "        ).set_start(start_time).set_duration(duration)\n",
    "\n",
    "        subtitle_x_position: str = \"center\"\n",
    "        subtitle_y_position: float = video_height * 4 / 5 \n",
    "        text_position: Tuple[str, float] = (subtitle_x_position, subtitle_y_position)\n",
    "\n",
    "        subtitle_clips.append(text_clip.set_position(text_position))\n",
    "\n",
    "    return subtitle_clips"
   ]
  },
  {
   "cell_type": "code",
   "execution_count": 3,
   "id": "6f3af136",
   "metadata": {},
   "outputs": [],
   "source": [
    "srtfilename: str = \"/Users/abevallerian/Documents/GitRepo/MathCraft/AI_SaaS.srt\"\n",
    "mp4filename: str = \"/Users/abevallerian/Documents/GitRepo/MathCraft/AI_SaaS.mp4\""
   ]
  },
  {
   "cell_type": "code",
   "execution_count": 4,
   "id": "3db39ad6",
   "metadata": {},
   "outputs": [],
   "source": [
    "video = VideoFileClip(mp4filename)\n",
    "subtitles = pysrt.open(srtfilename)"
   ]
  },
  {
   "cell_type": "code",
   "execution_count": 5,
   "id": "6f9ab738",
   "metadata": {},
   "outputs": [
    {
     "name": "stdout",
     "output_type": "stream",
     "text": [
      "Output file name:  /Users/abevallerian/Documents/GitRepo/MathCraft/AI_SaaS_subtitled.mp4\n"
     ]
    }
   ],
   "source": [
    "begin, end = mp4filename.split(\".mp4\")\n",
    "output_video_file = begin + \"_subtitled\" + \".mp4\"\n",
    "\n",
    "print(\"Output file name: \" ,output_video_file)"
   ]
  },
  {
   "cell_type": "code",
   "execution_count": 6,
   "id": "bb6057d5",
   "metadata": {},
   "outputs": [],
   "source": [
    "subtitle_clips: List[TextClip] = create_subtitle_clips(subtitles,video.size)"
   ]
  },
  {
   "cell_type": "code",
   "execution_count": 7,
   "id": "718134fc",
   "metadata": {},
   "outputs": [
    {
     "name": "stdout",
     "output_type": "stream",
     "text": [
      "Moviepy - Building video /Users/abevallerian/Documents/GitRepo/MathCraft/AI_SaaS_subtitled.mp4.\n",
      "MoviePy - Writing audio in AI_SaaS_subtitledTEMP_MPY_wvf_snd.mp3\n"
     ]
    },
    {
     "name": "stderr",
     "output_type": "stream",
     "text": [
      "                                                                      \r"
     ]
    },
    {
     "name": "stdout",
     "output_type": "stream",
     "text": [
      "MoviePy - Done.\n",
      "Moviepy - Writing video /Users/abevallerian/Documents/GitRepo/MathCraft/AI_SaaS_subtitled.mp4\n",
      "\n"
     ]
    },
    {
     "name": "stderr",
     "output_type": "stream",
     "text": [
      "                                                                 \r"
     ]
    },
    {
     "name": "stdout",
     "output_type": "stream",
     "text": [
      "Moviepy - Done !\n",
      "Moviepy - video ready /Users/abevallerian/Documents/GitRepo/MathCraft/AI_SaaS_subtitled.mp4\n"
     ]
    }
   ],
   "source": [
    "# Add subtitles to the video\n",
    "final_video = CompositeVideoClip([video] + subtitle_clips)\n",
    "\n",
    "# Write output video file\n",
    "final_video.write_videofile(output_video_file, )"
   ]
  },
  {
   "cell_type": "code",
   "execution_count": 8,
   "id": "cc93ea44",
   "metadata": {},
   "outputs": [
    {
     "data": {
      "text/plain": [
       "moviepy.video.VideoClip.TextClip"
      ]
     },
     "execution_count": 8,
     "metadata": {},
     "output_type": "execute_result"
    }
   ],
   "source": [
    "type(subtitle_clips[0])"
   ]
  },
  {
   "cell_type": "code",
   "execution_count": 6,
   "id": "c29a0714",
   "metadata": {},
   "outputs": [],
   "source": [
    "for subtitle in subtitles:\n",
    "    break"
   ]
  },
  {
   "cell_type": "code",
   "execution_count": 16,
   "id": "ae99dc68",
   "metadata": {},
   "outputs": [
    {
     "data": {
      "text/plain": [
       "pysrt.srttime.SubRipTime"
      ]
     },
     "execution_count": 16,
     "metadata": {},
     "output_type": "execute_result"
    }
   ],
   "source": [
    "type(subtitle.start)"
   ]
  },
  {
   "cell_type": "code",
   "execution_count": 11,
   "id": "16f40988",
   "metadata": {},
   "outputs": [
    {
     "data": {
      "text/plain": [
       "pysrt.srttime.SubRipTime"
      ]
     },
     "execution_count": 11,
     "metadata": {},
     "output_type": "execute_result"
    }
   ],
   "source": [
    "pysrt.srttime.SubRipTime"
   ]
  },
  {
   "cell_type": "code",
   "execution_count": 13,
   "id": "7a2f7762",
   "metadata": {},
   "outputs": [
    {
     "data": {
      "text/plain": [
       "'/Users/abevallerian/Documents/GitRepo/MathCraft/AI_SaaS_subtitled.mp4'"
      ]
     },
     "execution_count": 13,
     "metadata": {},
     "output_type": "execute_result"
    }
   ],
   "source": [
    "output_video_file"
   ]
  },
  {
   "cell_type": "code",
   "execution_count": null,
   "id": "7a0081ae",
   "metadata": {},
   "outputs": [],
   "source": []
  }
 ],
 "metadata": {
  "kernelspec": {
   "display_name": "movie",
   "language": "python",
   "name": "python3"
  },
  "language_info": {
   "codemirror_mode": {
    "name": "ipython",
    "version": 3
   },
   "file_extension": ".py",
   "mimetype": "text/x-python",
   "name": "python",
   "nbconvert_exporter": "python",
   "pygments_lexer": "ipython3",
   "version": "3.13.2"
  }
 },
 "nbformat": 4,
 "nbformat_minor": 5
}
